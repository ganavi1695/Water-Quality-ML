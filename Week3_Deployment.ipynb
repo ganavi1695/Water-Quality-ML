{
 "cells": [
  {
   "cell_type": "code",
   "execution_count": 2,
   "id": "6ef074c8",
   "metadata": {},
   "outputs": [
    {
     "name": "stdout",
     "output_type": "stream",
     "text": [
      "✅ Predictions saved to predictions.csv\n"
     ]
    },
    {
     "data": {
      "text/html": [
       "<div>\n",
       "<style scoped>\n",
       "    .dataframe tbody tr th:only-of-type {\n",
       "        vertical-align: middle;\n",
       "    }\n",
       "\n",
       "    .dataframe tbody tr th {\n",
       "        vertical-align: top;\n",
       "    }\n",
       "\n",
       "    .dataframe thead th {\n",
       "        text-align: right;\n",
       "    }\n",
       "</style>\n",
       "<table border=\"1\" class=\"dataframe\">\n",
       "  <thead>\n",
       "    <tr style=\"text-align: right;\">\n",
       "      <th></th>\n",
       "      <th>ph</th>\n",
       "      <th>Hardness</th>\n",
       "      <th>Solids</th>\n",
       "      <th>Chloramines</th>\n",
       "      <th>Sulfate</th>\n",
       "      <th>Conductivity</th>\n",
       "      <th>Organic_carbon</th>\n",
       "      <th>Trihalomethanes</th>\n",
       "      <th>Turbidity</th>\n",
       "      <th>Prediction</th>\n",
       "    </tr>\n",
       "  </thead>\n",
       "  <tbody>\n",
       "    <tr>\n",
       "      <th>0</th>\n",
       "      <td>7.0</td>\n",
       "      <td>200</td>\n",
       "      <td>20000</td>\n",
       "      <td>7.5</td>\n",
       "      <td>330</td>\n",
       "      <td>450</td>\n",
       "      <td>15</td>\n",
       "      <td>80</td>\n",
       "      <td>3.5</td>\n",
       "      <td>0</td>\n",
       "    </tr>\n",
       "    <tr>\n",
       "      <th>1</th>\n",
       "      <td>8.1</td>\n",
       "      <td>150</td>\n",
       "      <td>18000</td>\n",
       "      <td>6.8</td>\n",
       "      <td>310</td>\n",
       "      <td>420</td>\n",
       "      <td>14</td>\n",
       "      <td>70</td>\n",
       "      <td>4.0</td>\n",
       "      <td>0</td>\n",
       "    </tr>\n",
       "    <tr>\n",
       "      <th>2</th>\n",
       "      <td>6.5</td>\n",
       "      <td>180</td>\n",
       "      <td>21000</td>\n",
       "      <td>8.0</td>\n",
       "      <td>290</td>\n",
       "      <td>500</td>\n",
       "      <td>13</td>\n",
       "      <td>90</td>\n",
       "      <td>2.9</td>\n",
       "      <td>0</td>\n",
       "    </tr>\n",
       "  </tbody>\n",
       "</table>\n",
       "</div>"
      ],
      "text/plain": [
       "    ph  Hardness  Solids  Chloramines  Sulfate  Conductivity  Organic_carbon  \\\n",
       "0  7.0       200   20000          7.5      330           450              15   \n",
       "1  8.1       150   18000          6.8      310           420              14   \n",
       "2  6.5       180   21000          8.0      290           500              13   \n",
       "\n",
       "   Trihalomethanes  Turbidity  Prediction  \n",
       "0               80        3.5           0  \n",
       "1               70        4.0           0  \n",
       "2               90        2.9           0  "
      ]
     },
     "execution_count": 2,
     "metadata": {},
     "output_type": "execute_result"
    }
   ],
   "source": [
    "# Week 3 – Deployment of Water Quality Model\n",
    "\n",
    "import pandas as pd\n",
    "from joblib import load\n",
    "model = load(r\"C:\\Users\\GANAVI MC\\OneDrive\\Desktop\\AICTE1PRO\\models\\best_model.pkl\")\n",
    "\n",
    "\n",
    "# 2. Load new input data\n",
    "# Create a sample_input.csv file in your repo (with same columns as training features, but WITHOUT Potability)\n",
    "df = pd.read_csv(\"sample_input.csv\")\n",
    "\n",
    "# 3. Run predictions\n",
    "preds = model.predict(df)\n",
    "\n",
    "# 4. Save predictions\n",
    "df[\"Prediction\"] = preds\n",
    "df.to_csv(\"predictions.csv\", index=False)\n",
    "\n",
    "print(\"✅ Predictions saved to predictions.csv\")\n",
    "df.head()\n"
   ]
  },
  {
   "cell_type": "code",
   "execution_count": null,
   "id": "26252042",
   "metadata": {},
   "outputs": [],
   "source": []
  }
 ],
 "metadata": {
  "kernelspec": {
   "display_name": "Python 3 (ipykernel)",
   "language": "python",
   "name": "python3"
  },
  "language_info": {
   "codemirror_mode": {
    "name": "ipython",
    "version": 3
   },
   "file_extension": ".py",
   "mimetype": "text/x-python",
   "name": "python",
   "nbconvert_exporter": "python",
   "pygments_lexer": "ipython3",
   "version": "3.11.5"
  }
 },
 "nbformat": 4,
 "nbformat_minor": 5
}
